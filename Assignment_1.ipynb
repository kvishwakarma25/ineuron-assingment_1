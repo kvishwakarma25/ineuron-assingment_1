{
 "cells": [
  {
   "cell_type": "raw",
   "id": "88deb053",
   "metadata": {},
   "source": [
    "1. In the below elements which of them are values or an expression? eg:- values can be\n",
    "integer or string and expressions will be mathematical operators.\n",
    "*\n",
    "'hello'\n",
    "-87.8\n",
    "-\n",
    "/\n",
    "+\n",
    "6\n",
    "\n",
    "\n",
    "Ans:'hello' , -87.8 , 6 these are values, whereas *,-,/,+ these are operators. an expression is consist variable values, and operators eg. b=a+2 . depending upon operators expression can be divided in differant types."
   ]
  },
  {
   "cell_type": "raw",
   "id": "7025f4e9",
   "metadata": {},
   "source": [
    "2.What is the difference between string and variable?\n",
    "\n",
    "Ans:string is data type whereas variable is a location given to any data, eg. a='Ram' here \"a\" is variable and \"Ram\" is constant whoes data type is string. "
   ]
  },
  {
   "cell_type": "raw",
   "id": "21719e9c",
   "metadata": {},
   "source": [
    "3.Describe three different data types.\n",
    "\n",
    "Ans:str, int, complex these are data type used in Python. str consist of letters and words and can be numeric also if we assign in Double/single quotation. int is numeric values where is complex is consist of imaginery and real parts."
   ]
  },
  {
   "cell_type": "raw",
   "id": "9e0966d1",
   "metadata": {},
   "source": [
    "4.What is an expression made up of? What do all expressions do?\n",
    "\n",
    "Ans: expression consist of variable, values or constant and operators, depending upon type of operators used. expression can be logical, arithmatic, integarl, floting etc.expression used to do mathmatical operation. "
   ]
  },
  {
   "cell_type": "raw",
   "id": "9067ad88",
   "metadata": {},
   "source": [
    "5.This assignment statements, like spam = 10. What is the difference between an\n",
    "expression and a statement?\n",
    "\n",
    "Ans:An Expression always evaluates to a value. And, A statement does something, like creating a variable or displaying a value, it only does whatever the statement says. express\n"
   ]
  },
  {
   "cell_type": "raw",
   "id": "fd94e2ef",
   "metadata": {},
   "source": [
    "6. After running the following code, what does the variable bacon contain?\n",
    "bacon = 22\n",
    "bacon + 1\n",
    "\n",
    "Ans: 23"
   ]
  },
  {
   "cell_type": "code",
   "execution_count": 3,
   "id": "3d42a284",
   "metadata": {},
   "outputs": [
    {
     "data": {
      "text/plain": [
       "23"
      ]
     },
     "execution_count": 3,
     "metadata": {},
     "output_type": "execute_result"
    }
   ],
   "source": [
    "bacon = 22\n",
    "bacon + 1"
   ]
  },
  {
   "cell_type": "raw",
   "id": "5d8300fd",
   "metadata": {},
   "source": [
    "7. What should the values of the following two terms be?\n",
    "'spam'+'spamspam'\n",
    "'spam'*3\n",
    "\n",
    "Ans:'spamspamspam'"
   ]
  },
  {
   "cell_type": "code",
   "execution_count": 4,
   "id": "ee9ecad6",
   "metadata": {},
   "outputs": [
    {
     "data": {
      "text/plain": [
       "'spamspamspam'"
      ]
     },
     "execution_count": 4,
     "metadata": {},
     "output_type": "execute_result"
    }
   ],
   "source": [
    "'spam'+'spamspam'\n",
    "'spam'*3"
   ]
  },
  {
   "cell_type": "raw",
   "id": "910a7693",
   "metadata": {},
   "source": [
    "8. Why is eggs a valid variable name while 100 is invalid?\n",
    "\n",
    "Ans: Variable name can not start with number. this is why eggs a valid variable name while 100 is invalid."
   ]
  },
  {
   "cell_type": "raw",
   "id": "94b5faf7",
   "metadata": {},
   "source": [
    "9.What three functions can be used to get the integer, floating-point number, or string\n",
    "version of a value?\n",
    "\n",
    "Ans:The int() , float() , and str( ) functions will evaluate to the integer, floating-point number, and string versions of the value passed to them."
   ]
  },
  {
   "cell_type": "raw",
   "id": "bb1cea34",
   "metadata": {},
   "source": [
    "10. Why does this expression cause an error? How can you fix it?\n",
    "'I have eaten'+ 99 +'burritos.'\n",
    "\n",
    "Ans:str and int addition not possible,same data type addition only possible.'I have eaten'+ '99' +'burritos.' code will gives result as 'I have eaten99burritos.'"
   ]
  },
  {
   "cell_type": "code",
   "execution_count": 6,
   "id": "47ccf22c",
   "metadata": {},
   "outputs": [
    {
     "data": {
      "text/plain": [
       "'I have eaten99burritos.'"
      ]
     },
     "execution_count": 6,
     "metadata": {},
     "output_type": "execute_result"
    }
   ],
   "source": [
    "'I have eaten'+ '99' +'burritos.'"
   ]
  }
 ],
 "metadata": {
  "kernelspec": {
   "display_name": "Python 3 (ipykernel)",
   "language": "python",
   "name": "python3"
  },
  "language_info": {
   "codemirror_mode": {
    "name": "ipython",
    "version": 3
   },
   "file_extension": ".py",
   "mimetype": "text/x-python",
   "name": "python",
   "nbconvert_exporter": "python",
   "pygments_lexer": "ipython3",
   "version": "3.9.12"
  }
 },
 "nbformat": 4,
 "nbformat_minor": 5
}
